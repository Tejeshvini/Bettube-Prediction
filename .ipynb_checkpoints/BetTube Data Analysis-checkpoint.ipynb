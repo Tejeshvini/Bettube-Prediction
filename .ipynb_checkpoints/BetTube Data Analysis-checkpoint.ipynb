{
 "cells": [
  {
   "cell_type": "markdown",
   "metadata": {},
   "source": [
    "# Intial steps - Loading data and exploring data"
   ]
  },
  {
   "cell_type": "code",
   "execution_count": 24,
   "metadata": {},
   "outputs": [],
   "source": [
    "##Importing required modules\n",
    "import pandas as pd\n",
    "import numpy as np\n",
    "import matplotlib.pyplot as plt "
   ]
  },
  {
   "cell_type": "code",
   "execution_count": 25,
   "metadata": {},
   "outputs": [],
   "source": [
    "##Loading the raw csv file as a dataframe\n",
    "data = pd.read_csv(\"RawData.csv\")"
   ]
  },
  {
   "cell_type": "code",
   "execution_count": 26,
   "metadata": {},
   "outputs": [
    {
     "data": {
      "text/html": [
       "<div>\n",
       "<style scoped>\n",
       "    .dataframe tbody tr th:only-of-type {\n",
       "        vertical-align: middle;\n",
       "    }\n",
       "\n",
       "    .dataframe tbody tr th {\n",
       "        vertical-align: top;\n",
       "    }\n",
       "\n",
       "    .dataframe thead th {\n",
       "        text-align: right;\n",
       "    }\n",
       "</style>\n",
       "<table border=\"1\" class=\"dataframe\">\n",
       "  <thead>\n",
       "    <tr style=\"text-align: right;\">\n",
       "      <th></th>\n",
       "      <th>Date</th>\n",
       "      <th>Name</th>\n",
       "      <th>Team</th>\n",
       "      <th>Season</th>\n",
       "      <th>Round</th>\n",
       "      <th>Home Team</th>\n",
       "      <th>Away Team</th>\n",
       "      <th>Home Score</th>\n",
       "      <th>Away Score</th>\n",
       "      <th>Margin</th>\n",
       "      <th>...</th>\n",
       "      <th>Frees For</th>\n",
       "      <th>Frees Against</th>\n",
       "      <th>Contested Pos</th>\n",
       "      <th>Uncontested Pos</th>\n",
       "      <th>Contested Marks</th>\n",
       "      <th>Marks Inside 50</th>\n",
       "      <th>One Percenters</th>\n",
       "      <th>Goal Assists</th>\n",
       "      <th>Brownlow Votes</th>\n",
       "      <th>TOG</th>\n",
       "    </tr>\n",
       "  </thead>\n",
       "  <tbody>\n",
       "    <tr>\n",
       "      <th>0</th>\n",
       "      <td>2019-09-28 00:00:00</td>\n",
       "      <td>Zac Williams</td>\n",
       "      <td>Greater Western Sydney</td>\n",
       "      <td>2019.0</td>\n",
       "      <td>GF</td>\n",
       "      <td>Richmond</td>\n",
       "      <td>Greater Western Sydney</td>\n",
       "      <td>114</td>\n",
       "      <td>25</td>\n",
       "      <td>89</td>\n",
       "      <td>...</td>\n",
       "      <td>0.0</td>\n",
       "      <td>0.0</td>\n",
       "      <td>7.0</td>\n",
       "      <td>13.0</td>\n",
       "      <td>0.0</td>\n",
       "      <td>1.0</td>\n",
       "      <td>0.0</td>\n",
       "      <td>0.0</td>\n",
       "      <td>0.0</td>\n",
       "      <td>68</td>\n",
       "    </tr>\n",
       "    <tr>\n",
       "      <th>1</th>\n",
       "      <td>2019-09-28 00:00:00</td>\n",
       "      <td>Lachie Whitfield</td>\n",
       "      <td>Greater Western Sydney</td>\n",
       "      <td>2019.0</td>\n",
       "      <td>GF</td>\n",
       "      <td>Richmond</td>\n",
       "      <td>Greater Western Sydney</td>\n",
       "      <td>114</td>\n",
       "      <td>25</td>\n",
       "      <td>89</td>\n",
       "      <td>...</td>\n",
       "      <td>0.0</td>\n",
       "      <td>1.0</td>\n",
       "      <td>4.0</td>\n",
       "      <td>9.0</td>\n",
       "      <td>0.0</td>\n",
       "      <td>0.0</td>\n",
       "      <td>1.0</td>\n",
       "      <td>0.0</td>\n",
       "      <td>0.0</td>\n",
       "      <td>91</td>\n",
       "    </tr>\n",
       "    <tr>\n",
       "      <th>2</th>\n",
       "      <td>2019-09-28 00:00:00</td>\n",
       "      <td>Adam Tomlinson</td>\n",
       "      <td>Greater Western Sydney</td>\n",
       "      <td>2019.0</td>\n",
       "      <td>GF</td>\n",
       "      <td>Richmond</td>\n",
       "      <td>Greater Western Sydney</td>\n",
       "      <td>114</td>\n",
       "      <td>25</td>\n",
       "      <td>89</td>\n",
       "      <td>...</td>\n",
       "      <td>0.0</td>\n",
       "      <td>1.0</td>\n",
       "      <td>6.0</td>\n",
       "      <td>11.0</td>\n",
       "      <td>0.0</td>\n",
       "      <td>0.0</td>\n",
       "      <td>1.0</td>\n",
       "      <td>0.0</td>\n",
       "      <td>0.0</td>\n",
       "      <td>83</td>\n",
       "    </tr>\n",
       "    <tr>\n",
       "      <th>3</th>\n",
       "      <td>2019-09-28 00:00:00</td>\n",
       "      <td>Sam Taylor</td>\n",
       "      <td>Greater Western Sydney</td>\n",
       "      <td>2019.0</td>\n",
       "      <td>GF</td>\n",
       "      <td>Richmond</td>\n",
       "      <td>Greater Western Sydney</td>\n",
       "      <td>114</td>\n",
       "      <td>25</td>\n",
       "      <td>89</td>\n",
       "      <td>...</td>\n",
       "      <td>1.0</td>\n",
       "      <td>0.0</td>\n",
       "      <td>6.0</td>\n",
       "      <td>8.0</td>\n",
       "      <td>1.0</td>\n",
       "      <td>0.0</td>\n",
       "      <td>9.0</td>\n",
       "      <td>0.0</td>\n",
       "      <td>0.0</td>\n",
       "      <td>91</td>\n",
       "    </tr>\n",
       "    <tr>\n",
       "      <th>4</th>\n",
       "      <td>2019-09-28 00:00:00</td>\n",
       "      <td>Tim Taranto</td>\n",
       "      <td>Greater Western Sydney</td>\n",
       "      <td>2019.0</td>\n",
       "      <td>GF</td>\n",
       "      <td>Richmond</td>\n",
       "      <td>Greater Western Sydney</td>\n",
       "      <td>114</td>\n",
       "      <td>25</td>\n",
       "      <td>89</td>\n",
       "      <td>...</td>\n",
       "      <td>3.0</td>\n",
       "      <td>1.0</td>\n",
       "      <td>15.0</td>\n",
       "      <td>18.0</td>\n",
       "      <td>0.0</td>\n",
       "      <td>0.0</td>\n",
       "      <td>1.0</td>\n",
       "      <td>0.0</td>\n",
       "      <td>0.0</td>\n",
       "      <td>80</td>\n",
       "    </tr>\n",
       "  </tbody>\n",
       "</table>\n",
       "<p>5 rows × 32 columns</p>\n",
       "</div>"
      ],
      "text/plain": [
       "                  Date              Name                    Team  Season  \\\n",
       "0  2019-09-28 00:00:00      Zac Williams  Greater Western Sydney  2019.0   \n",
       "1  2019-09-28 00:00:00  Lachie Whitfield  Greater Western Sydney  2019.0   \n",
       "2  2019-09-28 00:00:00    Adam Tomlinson  Greater Western Sydney  2019.0   \n",
       "3  2019-09-28 00:00:00        Sam Taylor  Greater Western Sydney  2019.0   \n",
       "4  2019-09-28 00:00:00       Tim Taranto  Greater Western Sydney  2019.0   \n",
       "\n",
       "  Round Home Team               Away Team  Home Score  Away Score  Margin  \\\n",
       "0    GF  Richmond  Greater Western Sydney         114          25      89   \n",
       "1    GF  Richmond  Greater Western Sydney         114          25      89   \n",
       "2    GF  Richmond  Greater Western Sydney         114          25      89   \n",
       "3    GF  Richmond  Greater Western Sydney         114          25      89   \n",
       "4    GF  Richmond  Greater Western Sydney         114          25      89   \n",
       "\n",
       "   ...  Frees For  Frees Against  Contested Pos  Uncontested Pos  \\\n",
       "0  ...        0.0            0.0            7.0             13.0   \n",
       "1  ...        0.0            1.0            4.0              9.0   \n",
       "2  ...        0.0            1.0            6.0             11.0   \n",
       "3  ...        1.0            0.0            6.0              8.0   \n",
       "4  ...        3.0            1.0           15.0             18.0   \n",
       "\n",
       "   Contested Marks  Marks Inside 50  One Percenters  Goal Assists  \\\n",
       "0              0.0              1.0             0.0           0.0   \n",
       "1              0.0              0.0             1.0           0.0   \n",
       "2              0.0              0.0             1.0           0.0   \n",
       "3              1.0              0.0             9.0           0.0   \n",
       "4              0.0              0.0             1.0           0.0   \n",
       "\n",
       "   Brownlow Votes  TOG  \n",
       "0             0.0   68  \n",
       "1             0.0   91  \n",
       "2             0.0   83  \n",
       "3             0.0   91  \n",
       "4             0.0   80  \n",
       "\n",
       "[5 rows x 32 columns]"
      ]
     },
     "execution_count": 26,
     "metadata": {},
     "output_type": "execute_result"
    }
   ],
   "source": [
    "data.head()"
   ]
  },
  {
   "cell_type": "code",
   "execution_count": 27,
   "metadata": {},
   "outputs": [
    {
     "data": {
      "text/plain": [
       "Date                object\n",
       "Name                object\n",
       "Team                object\n",
       "Season             float64\n",
       "Round               object\n",
       "Home Team           object\n",
       "Away Team           object\n",
       "Home Score           int64\n",
       "Away Score           int64\n",
       "Margin               int64\n",
       "Disposals          float64\n",
       "Kicks              float64\n",
       "Marks              float64\n",
       "Handballs          float64\n",
       "Goals              float64\n",
       "Behinds            float64\n",
       "Hitouts            float64\n",
       "Tackles            float64\n",
       "Rebounds           float64\n",
       "Inside 50s         float64\n",
       "Clearances         float64\n",
       "Clangers           float64\n",
       "Frees For          float64\n",
       "Frees Against      float64\n",
       "Contested Pos      float64\n",
       "Uncontested Pos    float64\n",
       "Contested Marks    float64\n",
       "Marks Inside 50    float64\n",
       "One Percenters     float64\n",
       "Goal Assists       float64\n",
       "Brownlow Votes     float64\n",
       "TOG                  int64\n",
       "dtype: object"
      ]
     },
     "execution_count": 27,
     "metadata": {},
     "output_type": "execute_result"
    }
   ],
   "source": [
    "data.dtypes"
   ]
  },
  {
   "cell_type": "code",
   "execution_count": 28,
   "metadata": {},
   "outputs": [
    {
     "data": {
      "text/html": [
       "<div>\n",
       "<style scoped>\n",
       "    .dataframe tbody tr th:only-of-type {\n",
       "        vertical-align: middle;\n",
       "    }\n",
       "\n",
       "    .dataframe tbody tr th {\n",
       "        vertical-align: top;\n",
       "    }\n",
       "\n",
       "    .dataframe thead th {\n",
       "        text-align: right;\n",
       "    }\n",
       "</style>\n",
       "<table border=\"1\" class=\"dataframe\">\n",
       "  <thead>\n",
       "    <tr style=\"text-align: right;\">\n",
       "      <th></th>\n",
       "      <th>Season</th>\n",
       "      <th>Home Score</th>\n",
       "      <th>Away Score</th>\n",
       "      <th>Margin</th>\n",
       "      <th>Disposals</th>\n",
       "      <th>Kicks</th>\n",
       "      <th>Marks</th>\n",
       "      <th>Handballs</th>\n",
       "      <th>Goals</th>\n",
       "      <th>Behinds</th>\n",
       "      <th>...</th>\n",
       "      <th>Frees For</th>\n",
       "      <th>Frees Against</th>\n",
       "      <th>Contested Pos</th>\n",
       "      <th>Uncontested Pos</th>\n",
       "      <th>Contested Marks</th>\n",
       "      <th>Marks Inside 50</th>\n",
       "      <th>One Percenters</th>\n",
       "      <th>Goal Assists</th>\n",
       "      <th>Brownlow Votes</th>\n",
       "      <th>TOG</th>\n",
       "    </tr>\n",
       "  </thead>\n",
       "  <tbody>\n",
       "    <tr>\n",
       "      <th>count</th>\n",
       "      <td>146607.000000</td>\n",
       "      <td>146607.000000</td>\n",
       "      <td>146607.000000</td>\n",
       "      <td>146607.000000</td>\n",
       "      <td>146607.000000</td>\n",
       "      <td>146607.000000</td>\n",
       "      <td>146607.000000</td>\n",
       "      <td>146607.000000</td>\n",
       "      <td>146607.000000</td>\n",
       "      <td>146607.000000</td>\n",
       "      <td>...</td>\n",
       "      <td>146607.000000</td>\n",
       "      <td>146607.000000</td>\n",
       "      <td>146607.000000</td>\n",
       "      <td>146607.000000</td>\n",
       "      <td>146607.000000</td>\n",
       "      <td>146607.000000</td>\n",
       "      <td>146607.000000</td>\n",
       "      <td>146607.000000</td>\n",
       "      <td>146607.000000</td>\n",
       "      <td>146607.000000</td>\n",
       "    </tr>\n",
       "    <tr>\n",
       "      <th>mean</th>\n",
       "      <td>2011.236251</td>\n",
       "      <td>94.591193</td>\n",
       "      <td>86.189357</td>\n",
       "      <td>8.401836</td>\n",
       "      <td>16.034855</td>\n",
       "      <td>9.223284</td>\n",
       "      <td>4.188593</td>\n",
       "      <td>6.811571</td>\n",
       "      <td>0.596881</td>\n",
       "      <td>0.423390</td>\n",
       "      <td>...</td>\n",
       "      <td>0.828105</td>\n",
       "      <td>0.825540</td>\n",
       "      <td>6.000491</td>\n",
       "      <td>9.942533</td>\n",
       "      <td>0.494819</td>\n",
       "      <td>0.560771</td>\n",
       "      <td>2.133718</td>\n",
       "      <td>0.386400</td>\n",
       "      <td>0.128957</td>\n",
       "      <td>81.813556</td>\n",
       "    </tr>\n",
       "    <tr>\n",
       "      <th>std</th>\n",
       "      <td>4.892808</td>\n",
       "      <td>27.580722</td>\n",
       "      <td>27.302204</td>\n",
       "      <td>43.795350</td>\n",
       "      <td>7.129385</td>\n",
       "      <td>4.612373</td>\n",
       "      <td>2.629356</td>\n",
       "      <td>4.237795</td>\n",
       "      <td>1.021085</td>\n",
       "      <td>0.756662</td>\n",
       "      <td>...</td>\n",
       "      <td>0.982394</td>\n",
       "      <td>0.966207</td>\n",
       "      <td>3.529352</td>\n",
       "      <td>5.313584</td>\n",
       "      <td>0.855076</td>\n",
       "      <td>1.069863</td>\n",
       "      <td>2.207755</td>\n",
       "      <td>0.675618</td>\n",
       "      <td>0.533171</td>\n",
       "      <td>14.956601</td>\n",
       "    </tr>\n",
       "    <tr>\n",
       "      <th>min</th>\n",
       "      <td>2003.000000</td>\n",
       "      <td>21.000000</td>\n",
       "      <td>13.000000</td>\n",
       "      <td>-157.000000</td>\n",
       "      <td>0.000000</td>\n",
       "      <td>0.000000</td>\n",
       "      <td>0.000000</td>\n",
       "      <td>0.000000</td>\n",
       "      <td>0.000000</td>\n",
       "      <td>0.000000</td>\n",
       "      <td>...</td>\n",
       "      <td>0.000000</td>\n",
       "      <td>0.000000</td>\n",
       "      <td>0.000000</td>\n",
       "      <td>0.000000</td>\n",
       "      <td>0.000000</td>\n",
       "      <td>0.000000</td>\n",
       "      <td>0.000000</td>\n",
       "      <td>0.000000</td>\n",
       "      <td>0.000000</td>\n",
       "      <td>0.000000</td>\n",
       "    </tr>\n",
       "    <tr>\n",
       "      <th>25%</th>\n",
       "      <td>2007.000000</td>\n",
       "      <td>75.000000</td>\n",
       "      <td>67.000000</td>\n",
       "      <td>-20.000000</td>\n",
       "      <td>11.000000</td>\n",
       "      <td>6.000000</td>\n",
       "      <td>2.000000</td>\n",
       "      <td>4.000000</td>\n",
       "      <td>0.000000</td>\n",
       "      <td>0.000000</td>\n",
       "      <td>...</td>\n",
       "      <td>0.000000</td>\n",
       "      <td>0.000000</td>\n",
       "      <td>3.000000</td>\n",
       "      <td>6.000000</td>\n",
       "      <td>0.000000</td>\n",
       "      <td>0.000000</td>\n",
       "      <td>1.000000</td>\n",
       "      <td>0.000000</td>\n",
       "      <td>0.000000</td>\n",
       "      <td>77.000000</td>\n",
       "    </tr>\n",
       "    <tr>\n",
       "      <th>50%</th>\n",
       "      <td>2011.000000</td>\n",
       "      <td>93.000000</td>\n",
       "      <td>84.000000</td>\n",
       "      <td>8.000000</td>\n",
       "      <td>15.000000</td>\n",
       "      <td>9.000000</td>\n",
       "      <td>4.000000</td>\n",
       "      <td>6.000000</td>\n",
       "      <td>0.000000</td>\n",
       "      <td>0.000000</td>\n",
       "      <td>...</td>\n",
       "      <td>1.000000</td>\n",
       "      <td>1.000000</td>\n",
       "      <td>5.000000</td>\n",
       "      <td>9.000000</td>\n",
       "      <td>0.000000</td>\n",
       "      <td>0.000000</td>\n",
       "      <td>2.000000</td>\n",
       "      <td>0.000000</td>\n",
       "      <td>0.000000</td>\n",
       "      <td>85.000000</td>\n",
       "    </tr>\n",
       "    <tr>\n",
       "      <th>75%</th>\n",
       "      <td>2015.000000</td>\n",
       "      <td>112.000000</td>\n",
       "      <td>103.000000</td>\n",
       "      <td>38.000000</td>\n",
       "      <td>21.000000</td>\n",
       "      <td>12.000000</td>\n",
       "      <td>6.000000</td>\n",
       "      <td>9.000000</td>\n",
       "      <td>1.000000</td>\n",
       "      <td>1.000000</td>\n",
       "      <td>...</td>\n",
       "      <td>1.000000</td>\n",
       "      <td>1.000000</td>\n",
       "      <td>8.000000</td>\n",
       "      <td>13.000000</td>\n",
       "      <td>1.000000</td>\n",
       "      <td>1.000000</td>\n",
       "      <td>3.000000</td>\n",
       "      <td>1.000000</td>\n",
       "      <td>0.000000</td>\n",
       "      <td>91.000000</td>\n",
       "    </tr>\n",
       "    <tr>\n",
       "      <th>max</th>\n",
       "      <td>2019.000000</td>\n",
       "      <td>233.000000</td>\n",
       "      <td>222.000000</td>\n",
       "      <td>186.000000</td>\n",
       "      <td>54.000000</td>\n",
       "      <td>36.000000</td>\n",
       "      <td>24.000000</td>\n",
       "      <td>35.000000</td>\n",
       "      <td>13.000000</td>\n",
       "      <td>11.000000</td>\n",
       "      <td>...</td>\n",
       "      <td>9.000000</td>\n",
       "      <td>9.000000</td>\n",
       "      <td>32.000000</td>\n",
       "      <td>41.000000</td>\n",
       "      <td>9.000000</td>\n",
       "      <td>13.000000</td>\n",
       "      <td>25.000000</td>\n",
       "      <td>10.000000</td>\n",
       "      <td>3.000000</td>\n",
       "      <td>100.000000</td>\n",
       "    </tr>\n",
       "  </tbody>\n",
       "</table>\n",
       "<p>8 rows × 26 columns</p>\n",
       "</div>"
      ],
      "text/plain": [
       "              Season     Home Score     Away Score         Margin  \\\n",
       "count  146607.000000  146607.000000  146607.000000  146607.000000   \n",
       "mean     2011.236251      94.591193      86.189357       8.401836   \n",
       "std         4.892808      27.580722      27.302204      43.795350   \n",
       "min      2003.000000      21.000000      13.000000    -157.000000   \n",
       "25%      2007.000000      75.000000      67.000000     -20.000000   \n",
       "50%      2011.000000      93.000000      84.000000       8.000000   \n",
       "75%      2015.000000     112.000000     103.000000      38.000000   \n",
       "max      2019.000000     233.000000     222.000000     186.000000   \n",
       "\n",
       "           Disposals          Kicks          Marks      Handballs  \\\n",
       "count  146607.000000  146607.000000  146607.000000  146607.000000   \n",
       "mean       16.034855       9.223284       4.188593       6.811571   \n",
       "std         7.129385       4.612373       2.629356       4.237795   \n",
       "min         0.000000       0.000000       0.000000       0.000000   \n",
       "25%        11.000000       6.000000       2.000000       4.000000   \n",
       "50%        15.000000       9.000000       4.000000       6.000000   \n",
       "75%        21.000000      12.000000       6.000000       9.000000   \n",
       "max        54.000000      36.000000      24.000000      35.000000   \n",
       "\n",
       "               Goals        Behinds  ...      Frees For  Frees Against  \\\n",
       "count  146607.000000  146607.000000  ...  146607.000000  146607.000000   \n",
       "mean        0.596881       0.423390  ...       0.828105       0.825540   \n",
       "std         1.021085       0.756662  ...       0.982394       0.966207   \n",
       "min         0.000000       0.000000  ...       0.000000       0.000000   \n",
       "25%         0.000000       0.000000  ...       0.000000       0.000000   \n",
       "50%         0.000000       0.000000  ...       1.000000       1.000000   \n",
       "75%         1.000000       1.000000  ...       1.000000       1.000000   \n",
       "max        13.000000      11.000000  ...       9.000000       9.000000   \n",
       "\n",
       "       Contested Pos  Uncontested Pos  Contested Marks  Marks Inside 50  \\\n",
       "count  146607.000000    146607.000000    146607.000000    146607.000000   \n",
       "mean        6.000491         9.942533         0.494819         0.560771   \n",
       "std         3.529352         5.313584         0.855076         1.069863   \n",
       "min         0.000000         0.000000         0.000000         0.000000   \n",
       "25%         3.000000         6.000000         0.000000         0.000000   \n",
       "50%         5.000000         9.000000         0.000000         0.000000   \n",
       "75%         8.000000        13.000000         1.000000         1.000000   \n",
       "max        32.000000        41.000000         9.000000        13.000000   \n",
       "\n",
       "       One Percenters   Goal Assists  Brownlow Votes            TOG  \n",
       "count   146607.000000  146607.000000   146607.000000  146607.000000  \n",
       "mean         2.133718       0.386400        0.128957      81.813556  \n",
       "std          2.207755       0.675618        0.533171      14.956601  \n",
       "min          0.000000       0.000000        0.000000       0.000000  \n",
       "25%          1.000000       0.000000        0.000000      77.000000  \n",
       "50%          2.000000       0.000000        0.000000      85.000000  \n",
       "75%          3.000000       1.000000        0.000000      91.000000  \n",
       "max         25.000000      10.000000        3.000000     100.000000  \n",
       "\n",
       "[8 rows x 26 columns]"
      ]
     },
     "execution_count": 28,
     "metadata": {},
     "output_type": "execute_result"
    }
   ],
   "source": [
    "data.describe()"
   ]
  },
  {
   "cell_type": "code",
   "execution_count": 29,
   "metadata": {},
   "outputs": [
    {
     "data": {
      "text/plain": [
       "([<matplotlib.axis.XTick at 0x28a11ca60b8>,\n",
       "  <matplotlib.axis.XTick at 0x28a11c9f9b0>,\n",
       "  <matplotlib.axis.XTick at 0x28a11c9f6d8>,\n",
       "  <matplotlib.axis.XTick at 0x28a11802c50>],\n",
       " <a list of 4 Text xticklabel objects>)"
      ]
     },
     "execution_count": 29,
     "metadata": {},
     "output_type": "execute_result"
    },
    {
     "data": {
      "image/png": "[encoded data removed]",
      "text/plain": [
       "<Figure size 432x288 with 1 Axes>"
      ]
     },
     "metadata": {
      "needs_background": "light"
     },
     "output_type": "display_data"
    }
   ],
   "source": [
    "##Distributuion of our response variable - Brownlow votes\n",
    "plt.hist(data[\"Brownlow Votes\"])\n",
    "plt.xticks([0,1, 2, 3])"
   ]
  },
  {
   "cell_type": "code",
   "execution_count": 30,
   "metadata": {},
   "outputs": [],
   "source": [
    "##Number of brownlow votes in each of 0, 1, 2 and 3\n",
    "brownlow_0 = 0\n",
    "brownlow_1 = 0\n",
    "brownlow_2 = 0\n",
    "brownlow_3 = 0\n",
    "for i in data[\"Brownlow Votes\"]:\n",
    "    if i == 0:\n",
    "        brownlow_0 = brownlow_0+1\n",
    "    if i == 1:\n",
    "        brownlow_1 = brownlow_1+1\n",
    "    if i == 2:\n",
    "        brownlow_2 = brownlow_2+1    \n",
    "    if i == 3:\n",
    "        brownlow_3 = brownlow_3+1"
   ]
  },
  {
   "cell_type": "code",
   "execution_count": 31,
   "metadata": {},
   "outputs": [
    {
     "name": "stdout",
     "output_type": "stream",
     "text": [
      "137154\n",
      "3151\n",
      "3151\n",
      "3151\n"
     ]
    }
   ],
   "source": [
    "print(brownlow_0)\n",
    "print(brownlow_1)\n",
    "print(brownlow_2)\n",
    "print(brownlow_3)"
   ]
  },
  {
   "cell_type": "markdown",
   "metadata": {},
   "source": [
    "Most of the brownlow votes are 0 - lost. "
   ]
  },
  {
   "cell_type": "markdown",
   "metadata": {},
   "source": [
    "# Data PreProcessing"
   ]
  },
  {
   "cell_type": "code",
   "execution_count": 32,
   "metadata": {},
   "outputs": [],
   "source": [
    "##One hot encoding for all the categorical variable (As labelling the categories, will order them that might create a bian in the model)\n",
    "from sklearn.preprocessing import OneHotEncoder"
   ]
  },
  {
   "cell_type": "code",
   "execution_count": 33,
   "metadata": {},
   "outputs": [],
   "source": [
    "##Create dummy variables - one hot encoded for all categorical variables\n",
    "Team_dummies = pd.get_dummies(data[\"Team\"],prefix='Team_')\n",
    "Round_dummies = pd.get_dummies(data[\"Round\"],prefix='Round_')\n",
    "HomeTeam_dummies = pd.get_dummies(data[\"Home Team\"],prefix='HomeTeam_')\n",
    "AwayTeam_dummies = pd.get_dummies(data[\"Away Team\"],prefix='AwayTeam_')"
   ]
  },
  {
   "cell_type": "code",
   "execution_count": 45,
   "metadata": {},
   "outputs": [],
   "source": [
    "##Add all the one hot encoded variables to the main dataframe\n",
    "data_new = pd.DataFrame()\n",
    "data_new = pd.concat([data,Team_dummies,Round_dummies,HomeTeam_dummies,AwayTeam_dummies], axis=1)"
   ]
  },
  {
   "cell_type": "code",
   "execution_count": 46,
   "metadata": {},
   "outputs": [
    {
     "data": {
      "text/plain": [
       "Date                                 object\n",
       "Name                                 object\n",
       "Team                                 object\n",
       "Season                               object\n",
       "Round                                object\n",
       "Home Team                            object\n",
       "Away Team                            object\n",
       "Home Score                            int64\n",
       "Away Score                            int64\n",
       "Margin                                int64\n",
       "Disposals                           float64\n",
       "Kicks                               float64\n",
       "Marks                               float64\n",
       "Handballs                           float64\n",
       "Goals                               float64\n",
       "Behinds                             float64\n",
       "Hitouts                             float64\n",
       "Tackles                             float64\n",
       "Rebounds                            float64\n",
       "Inside 50s                          float64\n",
       "Clearances                          float64\n",
       "Clangers                            float64\n",
       "Frees For                           float64\n",
       "Frees Against                       float64\n",
       "Contested Pos                       float64\n",
       "Uncontested Pos                     float64\n",
       "Contested Marks                     float64\n",
       "Marks Inside 50                     float64\n",
       "One Percenters                      float64\n",
       "Goal Assists                        float64\n",
       "                                     ...   \n",
       "HomeTeam__Geelong                     uint8\n",
       "HomeTeam__Gold Coast                  uint8\n",
       "HomeTeam__Greater Western Sydney      uint8\n",
       "HomeTeam__Hawthorn                    uint8\n",
       "HomeTeam__Melbourne                   uint8\n",
       "HomeTeam__North Melbourne             uint8\n",
       "HomeTeam__Port Adelaide               uint8\n",
       "HomeTeam__Richmond                    uint8\n",
       "HomeTeam__St Kilda                    uint8\n",
       "HomeTeam__Sydney                      uint8\n",
       "HomeTeam__West Coast                  uint8\n",
       "HomeTeam__Western Bulldogs            uint8\n",
       "AwayTeam__Adelaide                    uint8\n",
       "AwayTeam__Brisbane Lions              uint8\n",
       "AwayTeam__Carlton                     uint8\n",
       "AwayTeam__Collingwood                 uint8\n",
       "AwayTeam__Essendon                    uint8\n",
       "AwayTeam__Fremantle                   uint8\n",
       "AwayTeam__Geelong                     uint8\n",
       "AwayTeam__Gold Coast                  uint8\n",
       "AwayTeam__Greater Western Sydney      uint8\n",
       "AwayTeam__Hawthorn                    uint8\n",
       "AwayTeam__Melbourne                   uint8\n",
       "AwayTeam__North Melbourne             uint8\n",
       "AwayTeam__Port Adelaide               uint8\n",
       "AwayTeam__Richmond                    uint8\n",
       "AwayTeam__St Kilda                    uint8\n",
       "AwayTeam__Sydney                      uint8\n",
       "AwayTeam__West Coast                  uint8\n",
       "AwayTeam__Western Bulldogs            uint8\n",
       "Length: 115, dtype: object"
      ]
     },
     "execution_count": 46,
     "metadata": {},
     "output_type": "execute_result"
    }
   ],
   "source": [
    "data_new.dtypes"
   ]
  },
  {
   "cell_type": "code",
   "execution_count": 43,
   "metadata": {},
   "outputs": [
    {
     "data": {
      "text/plain": [
       "1997"
      ]
     },
     "execution_count": 43,
     "metadata": {},
     "output_type": "execute_result"
    }
   ],
   "source": [
    "names = data_new['Name'].unique()\n",
    "len(names)"
   ]
  },
  {
   "cell_type": "code",
   "execution_count": 44,
   "metadata": {},
   "outputs": [
    {
     "data": {
      "text/plain": [
       "146607"
      ]
     },
     "execution_count": 44,
     "metadata": {},
     "output_type": "execute_result"
    }
   ],
   "source": [
    "len(data_new)"
   ]
  },
  {
   "cell_type": "code",
   "execution_count": 47,
   "metadata": {},
   "outputs": [],
   "source": [
    "##Dropping the non one hot encoded categorical variables from the dataframe\n",
    "data_ohc = data_new.drop(columns=['Team', 'Round', 'Home Team', 'Away Team'])"
   ]
  },
  {
   "cell_type": "code",
   "execution_count": 48,
   "metadata": {},
   "outputs": [
    {
     "data": {
      "text/plain": [
       "Date                                 object\n",
       "Name                                 object\n",
       "Season                               object\n",
       "Home Score                            int64\n",
       "Away Score                            int64\n",
       "Margin                                int64\n",
       "Disposals                           float64\n",
       "Kicks                               float64\n",
       "Marks                               float64\n",
       "Handballs                           float64\n",
       "Goals                               float64\n",
       "Behinds                             float64\n",
       "Hitouts                             float64\n",
       "Tackles                             float64\n",
       "Rebounds                            float64\n",
       "Inside 50s                          float64\n",
       "Clearances                          float64\n",
       "Clangers                            float64\n",
       "Frees For                           float64\n",
       "Frees Against                       float64\n",
       "Contested Pos                       float64\n",
       "Uncontested Pos                     float64\n",
       "Contested Marks                     float64\n",
       "Marks Inside 50                     float64\n",
       "One Percenters                      float64\n",
       "Goal Assists                        float64\n",
       "Brownlow Votes                      float64\n",
       "TOG                                   int64\n",
       "Team__Adelaide                        uint8\n",
       "Team__Brisbane Lions                  uint8\n",
       "                                     ...   \n",
       "HomeTeam__Geelong                     uint8\n",
       "HomeTeam__Gold Coast                  uint8\n",
       "HomeTeam__Greater Western Sydney      uint8\n",
       "HomeTeam__Hawthorn                    uint8\n",
       "HomeTeam__Melbourne                   uint8\n",
       "HomeTeam__North Melbourne             uint8\n",
       "HomeTeam__Port Adelaide               uint8\n",
       "HomeTeam__Richmond                    uint8\n",
       "HomeTeam__St Kilda                    uint8\n",
       "HomeTeam__Sydney                      uint8\n",
       "HomeTeam__West Coast                  uint8\n",
       "HomeTeam__Western Bulldogs            uint8\n",
       "AwayTeam__Adelaide                    uint8\n",
       "AwayTeam__Brisbane Lions              uint8\n",
       "AwayTeam__Carlton                     uint8\n",
       "AwayTeam__Collingwood                 uint8\n",
       "AwayTeam__Essendon                    uint8\n",
       "AwayTeam__Fremantle                   uint8\n",
       "AwayTeam__Geelong                     uint8\n",
       "AwayTeam__Gold Coast                  uint8\n",
       "AwayTeam__Greater Western Sydney      uint8\n",
       "AwayTeam__Hawthorn                    uint8\n",
       "AwayTeam__Melbourne                   uint8\n",
       "AwayTeam__North Melbourne             uint8\n",
       "AwayTeam__Port Adelaide               uint8\n",
       "AwayTeam__Richmond                    uint8\n",
       "AwayTeam__St Kilda                    uint8\n",
       "AwayTeam__Sydney                      uint8\n",
       "AwayTeam__West Coast                  uint8\n",
       "AwayTeam__Western Bulldogs            uint8\n",
       "Length: 111, dtype: object"
      ]
     },
     "execution_count": 48,
     "metadata": {},
     "output_type": "execute_result"
    }
   ],
   "source": [
    "data_ohc.dtypes"
   ]
  },
  {
   "cell_type": "code",
   "execution_count": 50,
   "metadata": {},
   "outputs": [
    {
     "data": {
      "text/plain": [
       "array([2019.0, 2018.0, 2017.0, 2016.0, 2015.0, 2014.0, 2013.0, 2012.0,\n",
       "       2011.0, 2010.0, 2009.0, 2008.0, 2007.0, 2006.0, 2005.0, 2004.0,\n",
       "       2003.0], dtype=object)"
      ]
     },
     "execution_count": 50,
     "metadata": {},
     "output_type": "execute_result"
    }
   ],
   "source": [
    "data_ohc[\"Season\"].unique()"
   ]
  },
  {
   "cell_type": "code",
   "execution_count": 124,
   "metadata": {},
   "outputs": [],
   "source": [
    "##Dividing the main dataframe into train and test sets\n",
    "data_train = data_ohc[data_ohc[\"Season\"] < 2016]\n",
    "data_test = data_ohc[data_ohc[\"Season\"] >= 2016]"
   ]
  },
  {
   "cell_type": "code",
   "execution_count": 125,
   "metadata": {},
   "outputs": [
    {
     "data": {
      "text/plain": [
       "array([2019.0, 2018.0, 2017.0, 2016.0], dtype=object)"
      ]
     },
     "execution_count": 125,
     "metadata": {},
     "output_type": "execute_result"
    }
   ],
   "source": [
    "data_test['Season'].unique()"
   ]
  },
  {
   "cell_type": "markdown",
   "metadata": {},
   "source": [
    "After one hot encoding the categorial variables we have 110 independent variables in total in the dataframe (excluding response variable). It is possible that not all variables are significant to the response variables. In order to check only the significant variables, single variable analysis can be used. In SVA (Single Variable analysis), a model is built for each combination of indepdent and response variables (110 models to be built). Then only the variables whose p-value <0.05 which indicates significance of the variable, are chose."
   ]
  },
  {
   "cell_type": "code",
   "execution_count": 73,
   "metadata": {},
   "outputs": [],
   "source": [
    "data_train_X_1 = data_train.drop(columns=['Brownlow Votes','Date','Name'])"
   ]
  },
  {
   "cell_type": "code",
   "execution_count": 74,
   "metadata": {},
   "outputs": [],
   "source": [
    "colnames = data_train_X_1.columns"
   ]
  },
  {
   "cell_type": "code",
   "execution_count": 75,
   "metadata": {},
   "outputs": [
    {
     "data": {
      "text/plain": [
       "Index(['Season', 'Home Score', 'Away Score', 'Margin', 'Disposals', 'Kicks',\n",
       "       'Marks', 'Handballs', 'Goals', 'Behinds',\n",
       "       ...\n",
       "       'AwayTeam__Greater Western Sydney', 'AwayTeam__Hawthorn',\n",
       "       'AwayTeam__Melbourne', 'AwayTeam__North Melbourne',\n",
       "       'AwayTeam__Port Adelaide', 'AwayTeam__Richmond', 'AwayTeam__St Kilda',\n",
       "       'AwayTeam__Sydney', 'AwayTeam__West Coast',\n",
       "       'AwayTeam__Western Bulldogs'],\n",
       "      dtype='object', length=108)"
      ]
     },
     "execution_count": 75,
     "metadata": {},
     "output_type": "execute_result"
    }
   ],
   "source": [
    "colnames"
   ]
  },
  {
   "cell_type": "code",
   "execution_count": 126,
   "metadata": {},
   "outputs": [
    {
     "data": {
      "text/plain": [
       "Date                                 object\n",
       "Name                                 object\n",
       "Season                               object\n",
       "Home Score                            int64\n",
       "Away Score                            int64\n",
       "Margin                                int64\n",
       "Disposals                           float64\n",
       "Kicks                               float64\n",
       "Marks                               float64\n",
       "Handballs                           float64\n",
       "Goals                               float64\n",
       "Behinds                             float64\n",
       "Hitouts                             float64\n",
       "Tackles                             float64\n",
       "Rebounds                            float64\n",
       "Inside 50s                          float64\n",
       "Clearances                          float64\n",
       "Clangers                            float64\n",
       "Frees For                           float64\n",
       "Frees Against                       float64\n",
       "Contested Pos                       float64\n",
       "Uncontested Pos                     float64\n",
       "Contested Marks                     float64\n",
       "Marks Inside 50                     float64\n",
       "One Percenters                      float64\n",
       "Goal Assists                        float64\n",
       "Brownlow Votes                      float64\n",
       "TOG                                   int64\n",
       "Team__Adelaide                        uint8\n",
       "Team__Brisbane Lions                  uint8\n",
       "                                     ...   \n",
       "HomeTeam__Geelong                     uint8\n",
       "HomeTeam__Gold Coast                  uint8\n",
       "HomeTeam__Greater Western Sydney      uint8\n",
       "HomeTeam__Hawthorn                    uint8\n",
       "HomeTeam__Melbourne                   uint8\n",
       "HomeTeam__North Melbourne             uint8\n",
       "HomeTeam__Port Adelaide               uint8\n",
       "HomeTeam__Richmond                    uint8\n",
       "HomeTeam__St Kilda                    uint8\n",
       "HomeTeam__Sydney                      uint8\n",
       "HomeTeam__West Coast                  uint8\n",
       "HomeTeam__Western Bulldogs            uint8\n",
       "AwayTeam__Adelaide                    uint8\n",
       "AwayTeam__Brisbane Lions              uint8\n",
       "AwayTeam__Carlton                     uint8\n",
       "AwayTeam__Collingwood                 uint8\n",
       "AwayTeam__Essendon                    uint8\n",
       "AwayTeam__Fremantle                   uint8\n",
       "AwayTeam__Geelong                     uint8\n",
       "AwayTeam__Gold Coast                  uint8\n",
       "AwayTeam__Greater Western Sydney      uint8\n",
       "AwayTeam__Hawthorn                    uint8\n",
       "AwayTeam__Melbourne                   uint8\n",
       "AwayTeam__North Melbourne             uint8\n",
       "AwayTeam__Port Adelaide               uint8\n",
       "AwayTeam__Richmond                    uint8\n",
       "AwayTeam__St Kilda                    uint8\n",
       "AwayTeam__Sydney                      uint8\n",
       "AwayTeam__West Coast                  uint8\n",
       "AwayTeam__Western Bulldogs            uint8\n",
       "Length: 111, dtype: object"
      ]
     },
     "execution_count": 126,
     "metadata": {},
     "output_type": "execute_result"
    }
   ],
   "source": [
    "data_train.dtypes"
   ]
  },
  {
   "cell_type": "code",
   "execution_count": 127,
   "metadata": {},
   "outputs": [],
   "source": [
    "##Designating independent and response variables\n",
    "data_train_X = data_train.loc[:, colnames]\n",
    "data_train_Y = data_train.loc[:, 'Brownlow Votes']"
   ]
  },
  {
   "cell_type": "code",
   "execution_count": 133,
   "metadata": {},
   "outputs": [],
   "source": [
    "data_train_Y = data_train_Y.astype(int) "
   ]
  },
  {
   "cell_type": "code",
   "execution_count": 140,
   "metadata": {},
   "outputs": [],
   "source": [
    "##Importing Neccessary modules for bulding a neural network\n",
    "from keras.models import Sequential\n",
    "from tensorflow.keras import datasets, layers, models, utils\n",
    "from keras.layers import Dense\n",
    "\n",
    "##Building a sequential model\n",
    "model = Sequential()\n",
    "model.add(Dense(108, input_dim=108, activation='relu'))\n",
    "model.add(Dense(80, activation='relu'))\n",
    "model.add(Dense(40, activation='relu'))\n",
    "model.add(Dense(20, activation='relu'))\n",
    "model.add(Dense(10, activation='relu'))\n",
    "model.add(Dense(4, activation='softmax'))"
   ]
  },
  {
   "cell_type": "code",
   "execution_count": 141,
   "metadata": {},
   "outputs": [],
   "source": [
    "##One hot encoding the labels (Browlow votes)\n",
    "train_labels = utils.to_categorical(data_train_Y,num_classes=4)"
   ]
  },
  {
   "cell_type": "code",
   "execution_count": 142,
   "metadata": {},
   "outputs": [
    {
     "data": {
      "text/plain": [
       "array([[1., 0., 0., 0.],\n",
       "       [1., 0., 0., 0.],\n",
       "       [0., 1., 0., 0.],\n",
       "       ...,\n",
       "       [1., 0., 0., 0.],\n",
       "       [1., 0., 0., 0.],\n",
       "       [1., 0., 0., 0.]], dtype=float32)"
      ]
     },
     "execution_count": 142,
     "metadata": {},
     "output_type": "execute_result"
    }
   ],
   "source": [
    "train_labels"
   ]
  },
  {
   "cell_type": "code",
   "execution_count": 147,
   "metadata": {},
   "outputs": [
    {
     "data": {
      "text/plain": [
       "110175"
      ]
     },
     "execution_count": 147,
     "metadata": {},
     "output_type": "execute_result"
    }
   ],
   "source": [
    "##Train and validation split for training the neural network model\n",
    "len(data_train_X)"
   ]
  },
  {
   "cell_type": "code",
   "execution_count": 154,
   "metadata": {},
   "outputs": [],
   "source": [
    "##Train and validation split for training the neural network model (85% and 15% respectively)\n",
    "train_X = data_train_X.iloc[0:93648,:]\n",
    "validation_X = data_train_X.iloc[93649:110175,:]\n",
    "train_X = train_labels[0:93648]\n",
    "validation_Y = train_labels[93649:110175]"
   ]
  },
  {
   "cell_type": "code",
   "execution_count": 159,
   "metadata": {},
   "outputs": [
    {
     "data": {
      "text/plain": [
       "(16526, 4)"
      ]
     },
     "execution_count": 159,
     "metadata": {},
     "output_type": "execute_result"
    }
   ],
   "source": [
    "validation_Y.shape"
   ]
  },
  {
   "cell_type": "code",
   "execution_count": 156,
   "metadata": {},
   "outputs": [],
   "source": [
    "##Compile the model\n",
    "model.compile(loss='categorical_crossentropy', optimizer='adam', metrics=['accuracy'])"
   ]
  },
  {
   "cell_type": "code",
   "execution_count": 160,
   "metadata": {},
   "outputs": [
    {
     "name": "stdout",
     "output_type": "stream",
     "text": [
      "Train on 93648 samples, validate on 16526 samples\n",
      "Epoch 1/20\n",
      "93648/93648 [==============================] - 15s 159us/step - loss: 0.2036 - accuracy: 0.9392 - val_loss: 0.2116 - val_accuracy: 0.9395\n",
      "Epoch 2/20\n",
      "93648/93648 [==============================] - 14s 144us/step - loss: 0.2037 - accuracy: 0.9394 - val_loss: 0.2248 - val_accuracy: 0.9365\n",
      "Epoch 3/20\n",
      "93648/93648 [==============================] - 13s 144us/step - loss: 0.2047 - accuracy: 0.9388 - val_loss: 0.2668 - val_accuracy: 0.9143\n",
      "Epoch 4/20\n",
      "93648/93648 [==============================] - 13s 142us/step - loss: 0.2044 - accuracy: 0.9387 - val_loss: 0.2093 - val_accuracy: 0.9396\n",
      "Epoch 5/20\n",
      "93648/93648 [==============================] - 13s 137us/step - loss: 0.2032 - accuracy: 0.9390 - val_loss: 0.2130 - val_accuracy: 0.9382\n",
      "Epoch 6/20\n",
      "93648/93648 [==============================] - 13s 136us/step - loss: 0.2039 - accuracy: 0.9395 - val_loss: 0.2103 - val_accuracy: 0.9394\n",
      "Epoch 7/20\n",
      "93648/93648 [==============================] - 12s 132us/step - loss: 0.2027 - accuracy: 0.9392 - val_loss: 0.2086 - val_accuracy: 0.9393\n",
      "Epoch 8/20\n",
      "93648/93648 [==============================] - 11s 121us/step - loss: 0.2030 - accuracy: 0.9393 - val_loss: 0.2099 - val_accuracy: 0.9391\n",
      "Epoch 9/20\n",
      "93648/93648 [==============================] - 11s 117us/step - loss: 0.2035 - accuracy: 0.9391 - val_loss: 0.2101 - val_accuracy: 0.9399\n",
      "Epoch 10/20\n",
      "93648/93648 [==============================] - 13s 142us/step - loss: 0.2030 - accuracy: 0.9391 - val_loss: 0.2119 - val_accuracy: 0.9382\n",
      "Epoch 11/20\n",
      "93648/93648 [==============================] - 15s 156us/step - loss: 0.2039 - accuracy: 0.9391 - val_loss: 0.2077 - val_accuracy: 0.9396\n",
      "Epoch 12/20\n",
      "93648/93648 [==============================] - 13s 142us/step - loss: 0.2026 - accuracy: 0.9392 - val_loss: 0.2143 - val_accuracy: 0.9386\n",
      "Epoch 13/20\n",
      "93648/93648 [==============================] - 14s 149us/step - loss: 0.2031 - accuracy: 0.9392 - val_loss: 0.2100 - val_accuracy: 0.9399\n",
      "Epoch 14/20\n",
      "93648/93648 [==============================] - 13s 140us/step - loss: 0.2060 - accuracy: 0.9391 - val_loss: 0.2089 - val_accuracy: 0.9394\n",
      "Epoch 15/20\n",
      "93648/93648 [==============================] - 14s 146us/step - loss: 0.2060 - accuracy: 0.9388 - val_loss: 0.2144 - val_accuracy: 0.9375\n",
      "Epoch 16/20\n",
      "93648/93648 [==============================] - 13s 143us/step - loss: 0.2030 - accuracy: 0.9392 - val_loss: 0.2082 - val_accuracy: 0.9400\n",
      "Epoch 17/20\n",
      "93648/93648 [==============================] - 14s 151us/step - loss: 0.2034 - accuracy: 0.9392 - val_loss: 0.2089 - val_accuracy: 0.9400\n",
      "Epoch 18/20\n",
      "93648/93648 [==============================] - 14s 149us/step - loss: 0.2023 - accuracy: 0.9395 - val_loss: 0.2083 - val_accuracy: 0.9397\n",
      "Epoch 19/20\n",
      "93648/93648 [==============================] - 14s 150us/step - loss: 0.2029 - accuracy: 0.9392 - val_loss: 0.2079 - val_accuracy: 0.9394\n",
      "Epoch 20/20\n",
      "93648/93648 [==============================] - 13s 139us/step - loss: 0.2027 - accuracy: 0.9391 - val_loss: 0.2090 - val_accuracy: 0.9397\n"
     ]
    }
   ],
   "source": [
    "##Train the model with validating against the validation data\n",
    "history = model.fit(train_X,train_Y,\n",
    "                epochs=20,\n",
    "                batch_size=10,\n",
    "                shuffle=True,\n",
    "                validation_data=(validation_X, validation_Y))"
   ]
  },
  {
   "cell_type": "code",
   "execution_count": 161,
   "metadata": {},
   "outputs": [
    {
     "ename": "TypeError",
     "evalue": "'History' object is not subscriptable",
     "output_type": "error",
     "traceback": [
      "\u001b[1;31m---------------------------------------------------------------------------\u001b[0m",
      "\u001b[1;31mTypeError\u001b[0m                                 Traceback (most recent call last)",
      "\u001b[1;32m<ipython-input-161-13e8acad9989>\u001b[0m in \u001b[0;36m<module>\u001b[1;34m\u001b[0m\n\u001b[0;32m      1\u001b[0m \u001b[1;31m##plot the performance of the model during training (plot training and validating accuracy)\u001b[0m\u001b[1;33m\u001b[0m\u001b[1;33m\u001b[0m\u001b[1;33m\u001b[0m\u001b[0m\n\u001b[1;32m----> 2\u001b[1;33m \u001b[0mplt\u001b[0m\u001b[1;33m.\u001b[0m\u001b[0mplot\u001b[0m\u001b[1;33m(\u001b[0m\u001b[0mmodel\u001b[0m\u001b[1;33m.\u001b[0m\u001b[0mhistory\u001b[0m\u001b[1;33m[\u001b[0m\u001b[1;34m'accuracy'\u001b[0m\u001b[1;33m]\u001b[0m\u001b[1;33m,\u001b[0m \u001b[0mlabel\u001b[0m\u001b[1;33m=\u001b[0m\u001b[1;34m'accuracy'\u001b[0m\u001b[1;33m)\u001b[0m\u001b[1;33m\u001b[0m\u001b[1;33m\u001b[0m\u001b[0m\n\u001b[0m\u001b[0;32m      3\u001b[0m \u001b[0mplt\u001b[0m\u001b[1;33m.\u001b[0m\u001b[0mplot\u001b[0m\u001b[1;33m(\u001b[0m\u001b[0mmodel\u001b[0m\u001b[1;33m.\u001b[0m\u001b[0mhistory\u001b[0m\u001b[1;33m[\u001b[0m\u001b[1;34m'val_accuracy'\u001b[0m\u001b[1;33m]\u001b[0m\u001b[1;33m,\u001b[0m \u001b[0mlabel\u001b[0m \u001b[1;33m=\u001b[0m \u001b[1;34m'val_accuracy'\u001b[0m\u001b[1;33m)\u001b[0m\u001b[1;33m\u001b[0m\u001b[1;33m\u001b[0m\u001b[0m\n\u001b[0;32m      4\u001b[0m \u001b[0mplt\u001b[0m\u001b[1;33m.\u001b[0m\u001b[0mxlabel\u001b[0m\u001b[1;33m(\u001b[0m\u001b[1;34m'Epoch'\u001b[0m\u001b[1;33m)\u001b[0m\u001b[1;33m\u001b[0m\u001b[1;33m\u001b[0m\u001b[0m\n\u001b[0;32m      5\u001b[0m \u001b[0mplt\u001b[0m\u001b[1;33m.\u001b[0m\u001b[0mylabel\u001b[0m\u001b[1;33m(\u001b[0m\u001b[1;34m'Accuracy'\u001b[0m\u001b[1;33m)\u001b[0m\u001b[1;33m\u001b[0m\u001b[1;33m\u001b[0m\u001b[0m\n",
      "\u001b[1;31mTypeError\u001b[0m: 'History' object is not subscriptable"
     ]
    }
   ],
   "source": [
    "##plot the performance of the model during training (plot training and validating accuracy)\n",
    "plt.plot(model.history['accuracy'], label='accuracy')\n",
    "plt.plot(model.history['val_accuracy'], label = 'val_accuracy')\n",
    "plt.xlabel('Epoch')\n",
    "plt.ylabel('Accuracy')\n",
    "plt.ylim([0.9, 1])\n",
    "plt.legend(loc='lower right')\n",
    "\n",
    "test_loss, test_acc = model.evaluate(validation_X, validation_Y, verbose=2)"
   ]
  },
  {
   "cell_type": "code",
   "execution_count": 162,
   "metadata": {},
   "outputs": [],
   "source": [
    "test_loss, test_acc = model.evaluate(validation_X, validation_Y, verbose=2)"
   ]
  },
  {
   "cell_type": "code",
   "execution_count": 163,
   "metadata": {},
   "outputs": [
    {
     "name": "stdout",
     "output_type": "stream",
     "text": [
      "0.20899488746558156\n",
      "0.9396708011627197\n"
     ]
    }
   ],
   "source": [
    "print(test_loss)\n",
    "print(test_acc)"
   ]
  },
  {
   "cell_type": "markdown",
   "metadata": {},
   "source": [
    "Predict the 'Brownlow votes' for test data"
   ]
  },
  {
   "cell_type": "code",
   "execution_count": 165,
   "metadata": {},
   "outputs": [],
   "source": [
    "##Designating independent and response variables\n",
    "data_test_X = data_test.loc[:, colnames]\n",
    "data_test_Y = data_test.loc[:, 'Brownlow Votes']"
   ]
  },
  {
   "cell_type": "code",
   "execution_count": 166,
   "metadata": {},
   "outputs": [],
   "source": [
    "##predict with test data\n",
    "prediction = model.predict(data_test_X)"
   ]
  },
  {
   "cell_type": "code",
   "execution_count": 167,
   "metadata": {},
   "outputs": [
    {
     "data": {
      "text/plain": [
       "array([[9.9999881e-01, 1.0325472e-06, 6.7671586e-08, 2.3588163e-09],\n",
       "       [9.9999857e-01, 1.2553177e-06, 8.5891649e-08, 3.1515115e-09],\n",
       "       [9.9999881e-01, 1.1008748e-06, 7.3175734e-08, 2.5939608e-09],\n",
       "       ...,\n",
       "       [9.9737859e-01, 1.8378666e-03, 6.2734931e-04, 1.5618395e-04],\n",
       "       [9.7391790e-01, 1.4677838e-02, 7.9621477e-03, 3.4421021e-03],\n",
       "       [9.8258948e-01, 1.0261074e-02, 5.1338607e-03, 2.0155860e-03]],\n",
       "      dtype=float32)"
      ]
     },
     "execution_count": 167,
     "metadata": {},
     "output_type": "execute_result"
    }
   ],
   "source": [
    "prediction"
   ]
  },
  {
   "cell_type": "code",
   "execution_count": 168,
   "metadata": {},
   "outputs": [],
   "source": [
    "##Predicted values are the probabilities of the outcome belonging to each class - 0 ,1,2,3.\n",
    "##Therefore, we round the values to the class with max probability\n",
    "prediction_ = []\n",
    "for i in prediction:\n",
    "    prediction_.append(np.round(i))"
   ]
  },
  {
   "cell_type": "code",
   "execution_count": 173,
   "metadata": {},
   "outputs": [],
   "source": [
    "import tensorflow as tf\n",
    "prediction_ = tf.argmax(prediction, axis=1)"
   ]
  },
  {
   "cell_type": "code",
   "execution_count": 174,
   "metadata": {},
   "outputs": [
    {
     "data": {
      "text/plain": [
       "<tf.Tensor: shape=(36432,), dtype=int64, numpy=array([0, 0, 0, ..., 0, 0, 0], dtype=int64)>"
      ]
     },
     "execution_count": 174,
     "metadata": {},
     "output_type": "execute_result"
    }
   ],
   "source": [
    "prediction_"
   ]
  },
  {
   "cell_type": "code",
   "execution_count": 175,
   "metadata": {},
   "outputs": [],
   "source": [
    "##Confusion matrix of true and predicted labels\n",
    "from sklearn.metrics import confusion_matrix\n",
    "test_performance = confusion_matrix(data_test_Y, prediction_)"
   ]
  },
  {
   "cell_type": "code",
   "execution_count": 177,
   "metadata": {},
   "outputs": [],
   "source": [
    "performance_df  = pd.DataFrame(test_performance)"
   ]
  },
  {
   "cell_type": "code",
   "execution_count": 178,
   "metadata": {},
   "outputs": [
    {
     "data": {
      "text/html": [
       "<div>\n",
       "<style scoped>\n",
       "    .dataframe tbody tr th:only-of-type {\n",
       "        vertical-align: middle;\n",
       "    }\n",
       "\n",
       "    .dataframe tbody tr th {\n",
       "        vertical-align: top;\n",
       "    }\n",
       "\n",
       "    .dataframe thead th {\n",
       "        text-align: right;\n",
       "    }\n",
       "</style>\n",
       "<table border=\"1\" class=\"dataframe\">\n",
       "  <thead>\n",
       "    <tr style=\"text-align: right;\">\n",
       "      <th></th>\n",
       "      <th>0</th>\n",
       "      <th>1</th>\n",
       "      <th>2</th>\n",
       "      <th>3</th>\n",
       "    </tr>\n",
       "  </thead>\n",
       "  <tbody>\n",
       "    <tr>\n",
       "      <th>0</th>\n",
       "      <td>33963</td>\n",
       "      <td>0</td>\n",
       "      <td>0</td>\n",
       "      <td>174</td>\n",
       "    </tr>\n",
       "    <tr>\n",
       "      <th>1</th>\n",
       "      <td>658</td>\n",
       "      <td>0</td>\n",
       "      <td>0</td>\n",
       "      <td>107</td>\n",
       "    </tr>\n",
       "    <tr>\n",
       "      <th>2</th>\n",
       "      <td>559</td>\n",
       "      <td>0</td>\n",
       "      <td>0</td>\n",
       "      <td>206</td>\n",
       "    </tr>\n",
       "    <tr>\n",
       "      <th>3</th>\n",
       "      <td>375</td>\n",
       "      <td>0</td>\n",
       "      <td>0</td>\n",
       "      <td>390</td>\n",
       "    </tr>\n",
       "  </tbody>\n",
       "</table>\n",
       "</div>"
      ],
      "text/plain": [
       "       0  1  2    3\n",
       "0  33963  0  0  174\n",
       "1    658  0  0  107\n",
       "2    559  0  0  206\n",
       "3    375  0  0  390"
      ]
     },
     "execution_count": 178,
     "metadata": {},
     "output_type": "execute_result"
    }
   ],
   "source": [
    "performance_df"
   ]
  },
  {
   "cell_type": "code",
   "execution_count": 184,
   "metadata": {},
   "outputs": [],
   "source": [
    "test_accuracy = sum(np.diag(performance_df))/len(data_test_X)"
   ]
  },
  {
   "cell_type": "code",
   "execution_count": 185,
   "metadata": {},
   "outputs": [
    {
     "data": {
      "text/plain": [
       "0.9429347826086957"
      ]
     },
     "execution_count": 185,
     "metadata": {},
     "output_type": "execute_result"
    }
   ],
   "source": [
    "test_accuracy"
   ]
  }
 ],
 "metadata": {
  "kernelspec": {
   "display_name": "Python 3",
   "language": "python",
   "name": "python3"
  },
  "language_info": {
   "codemirror_mode": {
    "name": "ipython",
    "version": 3
   },
   "file_extension": ".py",
   "mimetype": "text/x-python",
   "name": "python",
   "nbconvert_exporter": "python",
   "pygments_lexer": "ipython3",
   "version": "3.7.3"
  }
 },
 "nbformat": 4,
 "nbformat_minor": 2
}
